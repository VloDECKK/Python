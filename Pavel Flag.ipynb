{
 "cells": [
  {
   "cell_type": "markdown",
   "id": "5b0ea333",
   "metadata": {},
   "source": [
     <svg width="400" height="300">,
    <rect width="400" height="100" style=\"fill:rgb(0,0,0)\" />
    <rect y="100" width="400" height="100" style="fill:rgb(255,255,255)" />
    <rect y=\"200\" width=\"400\" height=\"100\" style=\"fill:rgb(0,255,0)\" />
    <polygon points=\"0,0 150,150 0,300" style=\"fill:red\"/>
    <polygon points=\"200,100 160,200 260,140 140,140 240,200\" style=\"fill:white\" />
    </svg>
   ]
  }
 ],
 "metadata": {
  "kernelspec": {
   "display_name": "Python 3 (ipykernel)",
   "language": "python",
   "name": "python3"
  },
  "language_info": {
   "codemirror_mode": {
    "name": "ipython",
    "version": 3
   },
   "file_extension": ".py",
   "mimetype": "text/x-python",
   "name": "python",
   "nbconvert_exporter": "python",
   "pygments_lexer": "ipython3",
   "version": "3.9.13"
  }
 },
 "nbformat": 4,
 "nbformat_minor": 5
}
