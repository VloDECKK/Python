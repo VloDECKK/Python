{
 "cells": [
  {
   "cell_type": "markdown",
   "id": "5b0ea333",
   "metadata": {},
   "source": [
    "<svg width=\"400\" height=\"300\">\n",
    "    <rect width=\"400\" height=\"150\" style=\"fill:rgb(135, 206, 235)\" />\n",
    "    <rect y=\"150\" width=\"400\" height=\"150\" style=\"fill:rgb(0, 128, 0)\" />\n",
    "    <polygon points=\"0,0 200,150 0,300\" style=\"fill:white\" />\n",
    "    <polygon points=\"100,110 70,190 150,145 50,145 130,190\" style=\"fill:red\"/>\n",
    "</svg> "
   ]
  }
 ],
 "metadata": {
  "kernelspec": {
   "display_name": "Python 3 (ipykernel)",
   "language": "python",
   "name": "python3"
  },
  "language_info": {
   "codemirror_mode": {
    "name": "ipython",
    "version": 3
   },
   "file_extension": ".py",
   "mimetype": "text/x-python",
   "name": "python",
   "nbconvert_exporter": "python",
   "pygments_lexer": "ipython3",
   "version": "3.9.13"
  }
 },
 "nbformat": 4,
 "nbformat_minor": 5
}
