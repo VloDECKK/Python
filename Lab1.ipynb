{
 "cells": [
  {
   "cell_type": "markdown",
   "id": "e09e86bd",
   "metadata": {},
   "source": [
    "<html>\n",
    "<body>\n",
    "    *Загаловок\n",
    "<h1 style=\"color:blue;\"><b>Гана</b></h1>\n",
    "<img src=\"https://upload.wikimedia.org/wikipedia/commons/thumb/2/2f/Melcom_%283106535294%29.jpg/220px-Melcom_%283106535294%29.jpg\" alt=\"Gana\" style=\"float:left; margin-right:10px;\" />\n",
    "<h2 style=\"color:red;\"><i>Инфо</i></h2>\n",
    "<p>Гана, официальное название — Республика Гана — государство в Западной Африке. Входит в Содружество наций. Площадь составляет 238 533 км<sup><small>2</small></sup>. После провозглашения независимости британской колонии Золотой Берег в 1957 году страна стала называться «Гана». Этот топоним происходит от «гана» — титула правителей империи Гана, который означает «военачальник»</p>\n",
    "<h2 style=\"color:red;\"><i>Выдающиеся люди</i></h2>\n",
    "<h3 style=\"color:green;\">Акосуа Бусиа</h3>\n",
    "<p>Ганская актриса и писательница. Известна по фильмам:</p>\n",
    "<ul>\n",
    "    <li>Слёзы солнца</li>\n",
    "    <li>Безумный город</li>\n",
    "    <li>Чёрный товар</li>\n",
    "</ul>\n",
    "<h3 style=\"color:green;\">Эссьен Майкл</h3>\n",
    "<p>Ганский футболист. Играл за такие известные клубы как:</p>\n",
    "<ul>\n",
    "    <li>Челси</li>\n",
    "    <li>Реал Мадрид</li>\n",
    "    <li>Милан</li>\n",
    "</ul>\n",
    "<table>\n",
    "    <tr><td>Национальный парк Какум</td><td><img src=\"https://encrypted-tbn3.gstatic.com/images?q=tbn:ANd9GcSR-eH-tLcu90Be5gXZ6omG_9eh50ZnOW5TG5s7iAU56iuWCVte6cYpEzfZxfWZOEIKbT6jeEihP1LssF-uQpHxGg\" /></td></tr>\n",
    "    <tr><td>Сан-Жоржи-да-Мина</td><td><img src=\"https://encrypted-tbn2.gstatic.com/images?q=tbn:ANd9GcQfioo-cRyqQXgXAwSm1pNCxM2bTYRV6Caxl25jD-sBtSgi-1OEpXPucVY9N_grNppgSBP7zaCyCN7vgNYJ_U4FOA\" /></td></tr>\n",
    "</table>\n",
    "    <p>Информация взята <a href=\"https://ru.wikipedia.org/wiki/%D0%93%D0%B0%D0%BD%D0%B0\">тут</a></p>\n",
    "    <svg width=\"400\" height=\"300\">\n",
    "   <rect width=\"400\" height=\"100\" style=\"fill:rgb(255,0,0)\" />\n",
    "   <rect y=\"100\" width=\"400\" height=\"100\" style=\"fill:rgb(255,255,0)\" />\n",
    "   <rect y=\"200\" width=\"400\" height=\"100\" style=\"fill:rgb(0,255,0)\" />\n",
    "   <polygon points=\"200,100 150,200 270,140 130,140 250,200\" style=\"fill:black\" />\n",
    "    </svg>\n",
    "</body>\n",
    "</html>"
   ]
  },
  {
   "cell_type": "code",
   "execution_count": 2,
   "id": "0dd8ce68",
   "metadata": {},
   "outputs": [],
   "source": [
    "def is_prime():\n",
    "\n",
    "    try:\n",
    "        k = int(input())\n",
    "        if k == 1:\n",
    "            return print('1-ое число - это 2')\n",
    "\n",
    "        a = k * 17\n",
    "        prime = [True] * (a + 1)\n",
    "        prime[0] = prime[1] = False\n",
    "        for i in range(2, a + 1):\n",
    "            if not prime[i]:\n",
    "                continue\n",
    "            for j in range(i * i, a + 1, i):\n",
    "                prime[j] = False\n",
    "\n",
    "        count = 0\n",
    "        for i in range(a):\n",
    "            if prime[i]:\n",
    "                count += 1\n",
    "            if count == k:\n",
    "                return print(f'{k}-ое число - это {i}')\n",
    "    except ValueError:\n",
    "        return print(\"Невозможно форматировать данные\")"
   ]
  },
  {
   "cell_type": "code",
   "execution_count": 3,
   "id": "97fda82e",
   "metadata": {},
   "outputs": [
    {
     "name": "stdout",
     "output_type": "stream",
     "text": [
      "5\n",
      "5-ое число - это 11\n"
     ]
    }
   ],
   "source": [
    "is_prime()"
   ]
  },
  {
   "cell_type": "code",
   "execution_count": 4,
   "id": "29d07c11",
   "metadata": {},
   "outputs": [
    {
     "name": "stdout",
     "output_type": "stream",
     "text": [
      "34\n",
      "34-ое число - это 139\n"
     ]
    }
   ],
   "source": [
    "is_prime()"
   ]
  },
  {
   "cell_type": "code",
   "execution_count": 5,
   "id": "aff038e7",
   "metadata": {},
   "outputs": [
    {
     "name": "stdout",
     "output_type": "stream",
     "text": [
      "oo\n",
      "Невозможно форматировать данные\n"
     ]
    }
   ],
   "source": [
    "is_prime()"
   ]
  },
  {
   "cell_type": "code",
   "execution_count": null,
   "id": "2431d181",
   "metadata": {},
   "outputs": [],
   "source": []
  }
 ],
 "metadata": {
  "kernelspec": {
   "display_name": "Python 3 (ipykernel)",
   "language": "python",
   "name": "python3"
  },
  "language_info": {
   "codemirror_mode": {
    "name": "ipython",
    "version": 3
   },
   "file_extension": ".py",
   "mimetype": "text/x-python",
   "name": "python",
   "nbconvert_exporter": "python",
   "pygments_lexer": "ipython3",
   "version": "3.9.13"
  }
 },
 "nbformat": 4,
 "nbformat_minor": 5
}
