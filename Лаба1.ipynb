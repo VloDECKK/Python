{
 "cells": [
  {
   "cell_type": "code",
   "execution_count": 3,
   "id": "93f961cd",
   "metadata": {},
   "outputs": [],
   "source": [
    "def task_6(a, b):\n",
    "    \n",
    "    arr=[]\n",
    "\n",
    "    for i in range(a,b):\n",
    "        for j in range(2,i):\n",
    "            if i%j==0:\n",
    "                break\n",
    "        else:\n",
    "            arr.append(i)\n",
    "\n",
    "    return print(arr)\n"
   ]
  },
  {
   "cell_type": "code",
   "execution_count": 4,
   "id": "05ffb916",
   "metadata": {},
   "outputs": [
    {
     "name": "stdout",
     "output_type": "stream",
     "text": [
      "[3, 5, 7, 11, 13]\n"
     ]
    }
   ],
   "source": [
    "task_6(3, 15)"
   ]
  },
  {
   "cell_type": "code",
   "execution_count": 5,
   "id": "84579edb",
   "metadata": {},
   "outputs": [
    {
     "name": "stdout",
     "output_type": "stream",
     "text": [
      "[7, 11, 13, 17, 19, 23]\n"
     ]
    }
   ],
   "source": [
    "task_6(6, 24)"
   ]
  },
  {
   "cell_type": "markdown",
   "id": "b8e19d29",
   "metadata": {},
   "source": [
    "<h1 style=\"color:blue;\"><b>Иордания</b></h1>\n",
    "<img src=\"https://upload.wikimedia.org/wikipedia/ru/thumb/1/13/%D0%A0%D0%B5%D0%BB%D1%8C%D0%B5%D1%84_%D0%98%D0%BE%D1%80%D0%B4%D0%B0%D0%BD%D0%B8%D0%B8.png/1024px-%D0%A0%D0%B5%D0%BB%D1%8C%D0%B5%D1%84_%D0%98%D0%BE%D1%80%D0%B4%D0%B0%D0%BD%D0%B8%D0%B8.png\" alt=\"Iordania\" style=\"float:left; margin-right:10px;\" />\n",
    "<h2 style=\"color:red;\"><i>Инфо</i></h2>\n",
    "<p>Иорда́ния - официальное название — Иорда́нское Хашими́тское Короле́вство — государство на Ближнем Востоке.\n",
    "\n",
    "Королевство граничит с Сирией на севере, с Ираком — на северо-востоке, с Саудовской Аравией — на востоке и юге, с Израилем и Палестинской национальной администрацией (ПНА) / частично признанным Государством Палестина — на западе. Иордания разделяет береговые линии Мёртвого моря с Израилем и ПНА; береговые линии Залива Акаба — с Израилем, Саудовской Аравией и Египтом.\n",
    "\n",
    "Около 90 % территории королевства занимают пустыни и полупустыни.\n",
    "\n",
    "Туристов привлекают в Иордании пляжи и коралловые рифы залива Акаба, Мёртвое море и одно из новых семи чудес света — город Пéтра. Площадь составляет 92 300 км<sup><small>2</small></sup>.</p>\n",
    "<h2 style=\"color:red;\"><i>Выдающиеся люди</i></h2>\n",
    "<h3 style=\"color:green;\">Сумайя бинт Эль-Хасан</h3>\n",
    "<p>Принцесса Иордании</p>\n",
    "<h3 style=\"color:green;\">Абдалла II</h3>\n",
    "<p>король Иорданского Хашимитского Королевства</p>\n",
    "<table>\n",
    "    <tr><td>Петра</td><td><img src=\"https://encrypted-tbn3.gstatic.com/licensed-image?q=tbn:ANd9GcQxLfu6Q3fxqExRKXeqFuBmMhBe5Gj-Tjjam3Ap8TEfW4donaTtD0gYC1bFwSg5Gu6560jy_X-Ggwcww27Xao2YIw\" /></td></tr>\n",
    "    <tr><td>Wadi Rum Reserve</td><td><img src=\"https://encrypted-tbn2.gstatic.com/images?q=tbn:ANd9GcSpGMHWQFAYIBVglSBvG45goEeu6CjhCLqhS5IG88j_BqHxTxPycB1vL50voHlsGr7bFat3BzY8v1zVP1ZzGUd3Kg\" /></td></tr>\n",
    "</table>\n",
    "    <p>Информация взята <a href=\"https://ru.wikipedia.org/wiki/%D0%98%D0%BE%D1%80%D0%B4%D0%B0%D0%BD%D0%B8%D1%8F\">тут</a></p>\n",
    "    <svg width=\"400\" height=\"300\">,\n",
    "    <rect width=\"400\" height=\"100\" style=\\\"fill:rgb(0,0,0)\\\" />\n",
    "    <rect y=\"100\" width=\"400\" height=\"100\" style=\"fill:rgb(255,255,255)\" />\n",
    "    <rect y=\\\"200\\\" width=\\\"400\\\" height=\\\"100\\\" style=\\\"fill:rgb(0,255,0)\\\" />\n",
    "    <polygon points=\\\"0,0 150,150 0,300\" style=\\\"fill:red\\\"/>\n",
    "    <polygon points=\\\"200,100 160,200 260,140 140,140 240,200\\\" style=\\\"fill:white\\\" />\n",
    "    </svg>"
   ]
  },
  {
   "cell_type": "code",
   "execution_count": null,
   "id": "4ae82c8a",
   "metadata": {},
   "outputs": [],
   "source": []
  }
 ],
 "metadata": {
  "kernelspec": {
   "display_name": "Python 3 (ipykernel)",
   "language": "python",
   "name": "python3"
  },
  "language_info": {
   "codemirror_mode": {
    "name": "ipython",
    "version": 3
   },
   "file_extension": ".py",
   "mimetype": "text/x-python",
   "name": "python",
   "nbconvert_exporter": "python",
   "pygments_lexer": "ipython3",
   "version": "3.9.13"
  }
 },
 "nbformat": 4,
 "nbformat_minor": 5
}
