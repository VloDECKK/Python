{
 "cells": [
  {
   "cell_type": "code",
   "execution_count": 3,
   "id": "0f913e02",
   "metadata": {},
   "outputs": [],
   "source": [
    "import numpy as np\n",
    "def task_matrix():\n",
    "    a = np.array([[5, 2, 0], [10, 4, 1], [7, 3, 2]])\n",
    "    b = np.array([[3, 6, -1], [-1, -2, 0], [2, 1, 3]])\n",
    "    c = (a**2 - b**2) * (a + b)\n",
    "    print(c)"
   ]
  },
  {
   "cell_type": "code",
   "execution_count": 4,
   "id": "8e1d92a8",
   "metadata": {
    "scrolled": true
   },
   "outputs": [
    {
     "name": "stdout",
     "output_type": "stream",
     "text": [
      "[[ 128 -256    1]\n",
      " [ 891   24    1]\n",
      " [ 405   32  -25]]\n"
     ]
    }
   ],
   "source": [
    "task_matrix()"
   ]
  },
  {
   "cell_type": "code",
   "execution_count": 5,
   "id": "54c73016",
   "metadata": {},
   "outputs": [],
   "source": [
    "def kramer():\n",
    "    left = np.array([[1., 3., 5., 7.], [3., 5., 7., 1.], [5., 7., 1., 3.], [7., 1., 3., 5.]])\n",
    "    right = np.array([12., 0., 4., 16.])\n",
    "    print(np.linalg.solve(left, right))"
   ]
  },
  {
   "cell_type": "code",
   "execution_count": 6,
   "id": "151ad6af",
   "metadata": {},
   "outputs": [
    {
     "name": "stdout",
     "output_type": "stream",
     "text": [
      "[ 1.00000000e+00 -1.00000000e+00 -1.01770444e-16  2.00000000e+00]\n"
     ]
    }
   ],
   "source": [
    "kramer()"
   ]
  },
  {
   "cell_type": "code",
   "execution_count": 7,
   "id": "b156c2a7",
   "metadata": {},
   "outputs": [],
   "source": [
    "def task_3():\n",
    "    n, m, r, c = map(int, input().split())\n",
    "    x = np.full((n, m), 1)\n",
    "    x[::r, :] = 0\n",
    "    x[:, ::c] = 0\n",
    "    print(x)\n",
    "\n",
    "\n",
    "def task_5():\n",
    "    n = int(input())\n",
    "    x = np.full((n, n), 0)\n",
    "    x[::2, :] = 1\n",
    "    print(x)\n",
    "\n",
    "\n",
    "def task_7():\n",
    "    x = list(map(int, input().split()))\n",
    "    z = np.array(x)\n",
    "    for i in range(0, len(z)):\n",
    "        if z[i] == 0:\n",
    "            z[i] = -1\n",
    "    print(z)\n",
    "\n",
    "\n",
    "def task_9():\n",
    "    n = int(input())\n",
    "    x = np.arange(n, -1, -1)\n",
    "    print(x)\n",
    "\n",
    "\n",
    "def task_10():\n",
    "    n, m = map(int, input().split())\n",
    "    x = np.random.random((n, m))\n",
    "    print(x)\n",
    "\n",
    "    print(f\"min: {np.min(x)}\")\n",
    "\n",
    "    print(f\"max: {np.max(x)}\")\n",
    "\n",
    "    print(f\"avg: {np.average(x)}\")\n",
    "\n",
    "    print(f\"st_dev: {np.std(x)}\")\n",
    "\n",
    "\n",
    "def task_12():\n",
    "    n = int(input())\n",
    "    x = np.full((n, n), 0, dtype=float)\n",
    "    x[1:n-1, 1:n-1] = 1\n",
    "    print(x)\n",
    "\n",
    "\n",
    "def task_14():\n",
    "    x = np.array([0, 1])\n",
    "    print(np.tile(x, [8, 4]))\n",
    "\n",
    "\n",
    "def task_15():\n",
    "    n = int(input())\n",
    "    x = np.full((n, n), 1)\n",
    "    x[:, ::2] = 0\n",
    "    print(x)\n",
    "\n",
    "\n",
    "def task_21():\n",
    "    n, m = map(int, input().split())\n",
    "    x = np.random.randint(0, m, (n, n))\n",
    "    print(x)\n",
    "    for i in range(0, n):\n",
    "        for j in range(0, n):\n",
    "            if x[i][j] == np.max(x):\n",
    "                x[i][j] = np.max(x) * (-1)\n",
    "    print(x)"
   ]
  },
  {
   "cell_type": "code",
   "execution_count": 8,
   "id": "5ed8d528",
   "metadata": {},
   "outputs": [
    {
     "name": "stdout",
     "output_type": "stream",
     "text": [
      "6 7 2 3\n",
      "[[0 0 0 0 0 0 0]\n",
      " [0 1 1 0 1 1 0]\n",
      " [0 0 0 0 0 0 0]\n",
      " [0 1 1 0 1 1 0]\n",
      " [0 0 0 0 0 0 0]\n",
      " [0 1 1 0 1 1 0]]\n"
     ]
    }
   ],
   "source": [
    "task_3()"
   ]
  },
  {
   "cell_type": "code",
   "execution_count": 9,
   "id": "b36e17fc",
   "metadata": {},
   "outputs": [
    {
     "name": "stdout",
     "output_type": "stream",
     "text": [
      "5\n",
      "[[1 1 1 1 1]\n",
      " [0 0 0 0 0]\n",
      " [1 1 1 1 1]\n",
      " [0 0 0 0 0]\n",
      " [1 1 1 1 1]]\n"
     ]
    }
   ],
   "source": [
    "task_5()"
   ]
  },
  {
   "cell_type": "code",
   "execution_count": 10,
   "id": "b2834dd1",
   "metadata": {},
   "outputs": [
    {
     "name": "stdout",
     "output_type": "stream",
     "text": [
      "3 4 0 6 5 0 4 0\n",
      "[ 3  4 -1  6  5 -1  4 -1]\n"
     ]
    }
   ],
   "source": [
    "task_7()"
   ]
  },
  {
   "cell_type": "code",
   "execution_count": 11,
   "id": "e991930f",
   "metadata": {},
   "outputs": [
    {
     "name": "stdout",
     "output_type": "stream",
     "text": [
      "10\n",
      "[10  9  8  7  6  5  4  3  2  1  0]\n"
     ]
    }
   ],
   "source": [
    "task_9()"
   ]
  },
  {
   "cell_type": "code",
   "execution_count": 12,
   "id": "71d8422c",
   "metadata": {},
   "outputs": [
    {
     "name": "stdout",
     "output_type": "stream",
     "text": [
      "4 5\n",
      "[[0.40086236 0.73375794 0.95664811 0.86486541 0.27462145]\n",
      " [0.51584878 0.61024249 0.84198749 0.26535402 0.51723954]\n",
      " [0.95611978 0.02574818 0.07246569 0.88184805 0.3443562 ]\n",
      " [0.61900638 0.52124451 0.35064267 0.30718615 0.68611289]]\n",
      "min: 0.025748180199608117\n",
      "max: 0.9566481112298141\n",
      "avg: 0.5373079039049816\n",
      "st_dev: 0.2746192256011107\n"
     ]
    }
   ],
   "source": [
    "task_10()"
   ]
  },
  {
   "cell_type": "code",
   "execution_count": 13,
   "id": "8c11449e",
   "metadata": {},
   "outputs": [
    {
     "name": "stdout",
     "output_type": "stream",
     "text": [
      "4\n",
      "[[0. 0. 0. 0.]\n",
      " [0. 1. 1. 0.]\n",
      " [0. 1. 1. 0.]\n",
      " [0. 0. 0. 0.]]\n"
     ]
    }
   ],
   "source": [
    "task_12()"
   ]
  },
  {
   "cell_type": "code",
   "execution_count": 14,
   "id": "cfd7467c",
   "metadata": {},
   "outputs": [
    {
     "name": "stdout",
     "output_type": "stream",
     "text": [
      "[[0 1 0 1 0 1 0 1]\n",
      " [0 1 0 1 0 1 0 1]\n",
      " [0 1 0 1 0 1 0 1]\n",
      " [0 1 0 1 0 1 0 1]\n",
      " [0 1 0 1 0 1 0 1]\n",
      " [0 1 0 1 0 1 0 1]\n",
      " [0 1 0 1 0 1 0 1]\n",
      " [0 1 0 1 0 1 0 1]]\n"
     ]
    }
   ],
   "source": [
    "task_14()"
   ]
  },
  {
   "cell_type": "code",
   "execution_count": 15,
   "id": "5a780781",
   "metadata": {},
   "outputs": [
    {
     "name": "stdout",
     "output_type": "stream",
     "text": [
      "5\n",
      "[[0 1 0 1 0]\n",
      " [0 1 0 1 0]\n",
      " [0 1 0 1 0]\n",
      " [0 1 0 1 0]\n",
      " [0 1 0 1 0]]\n"
     ]
    }
   ],
   "source": [
    "task_15()"
   ]
  },
  {
   "cell_type": "code",
   "execution_count": 16,
   "id": "761a1cf1",
   "metadata": {},
   "outputs": [
    {
     "name": "stdout",
     "output_type": "stream",
     "text": [
      "4 10\n",
      "[[2 9 4 5]\n",
      " [7 5 6 2]\n",
      " [9 0 5 7]\n",
      " [7 0 3 0]]\n",
      "[[ 2 -9  4  5]\n",
      " [ 7  5  6  2]\n",
      " [-9  0  5 -7]\n",
      " [-7  0  3  0]]\n"
     ]
    }
   ],
   "source": [
    "task_21()"
   ]
  },
  {
   "cell_type": "code",
   "execution_count": null,
   "id": "707be1de",
   "metadata": {},
   "outputs": [],
   "source": []
  }
 ],
 "metadata": {
  "kernelspec": {
   "display_name": "Python 3 (ipykernel)",
   "language": "python",
   "name": "python3"
  },
  "language_info": {
   "codemirror_mode": {
    "name": "ipython",
    "version": 3
   },
   "file_extension": ".py",
   "mimetype": "text/x-python",
   "name": "python",
   "nbconvert_exporter": "python",
   "pygments_lexer": "ipython3",
   "version": "3.9.13"
  }
 },
 "nbformat": 4,
 "nbformat_minor": 5
}
