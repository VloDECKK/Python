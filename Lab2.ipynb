{
 "cells": [
  {
   "cell_type": "code",
   "execution_count": 1,
   "id": "0ffca826",
   "metadata": {},
   "outputs": [],
   "source": [
    "def task_3():\n",
    "    n, m, r, c = map(int, input().split())\n",
    "    x = [[1] * m for i in range(n)]\n",
    "    for i in range(0, n):\n",
    "        for j in range(0, m):\n",
    "            if i % r == 0 or j % c == 0:\n",
    "                x[i][j] = 0\n",
    "    print(x)"
   ]
  },
  {
   "cell_type": "code",
   "execution_count": 2,
   "id": "b18992df",
   "metadata": {},
   "outputs": [
    {
     "name": "stdout",
     "output_type": "stream",
     "text": [
      "6 7 2 3\n",
      "[[0, 0, 0, 0, 0, 0, 0], [0, 1, 1, 0, 1, 1, 0], [0, 0, 0, 0, 0, 0, 0], [0, 1, 1, 0, 1, 1, 0], [0, 0, 0, 0, 0, 0, 0], [0, 1, 1, 0, 1, 1, 0]]\n"
     ]
    }
   ],
   "source": [
    "task_3()"
   ]
  },
  {
   "cell_type": "code",
   "execution_count": 3,
   "id": "7bbfda4e",
   "metadata": {},
   "outputs": [],
   "source": [
    "def task_5():\n",
    "    n = int(input())\n",
    "    x = [[0] * n for i in range(n)]\n",
    "    for i in range(0, n):\n",
    "        for j in range(0, n):\n",
    "            if i % 2 == 0:\n",
    "                x[i][j] = 1\n",
    "    print(x)"
   ]
  },
  {
   "cell_type": "code",
   "execution_count": 4,
   "id": "15082a8e",
   "metadata": {},
   "outputs": [
    {
     "name": "stdout",
     "output_type": "stream",
     "text": [
      "5\n",
      "[[1, 1, 1, 1, 1], [0, 0, 0, 0, 0], [1, 1, 1, 1, 1], [0, 0, 0, 0, 0], [1, 1, 1, 1, 1]]\n"
     ]
    }
   ],
   "source": [
    "task_5()"
   ]
  },
  {
   "cell_type": "code",
   "execution_count": 5,
   "id": "7fcbfe69",
   "metadata": {},
   "outputs": [],
   "source": [
    "def task_7():\n",
    "    x = list(map(int, input().split()))\n",
    "    for i in range(0, len(x)):\n",
    "        if x[i] == 0:\n",
    "            x[i] = -1\n",
    "    print(x)"
   ]
  },
  {
   "cell_type": "code",
   "execution_count": 6,
   "id": "529860fe",
   "metadata": {},
   "outputs": [
    {
     "name": "stdout",
     "output_type": "stream",
     "text": [
      "3 4 0 9 8 2 4 0 8 4 0\n",
      "[3, 4, -1, 9, 8, 2, 4, -1, 8, 4, -1]\n"
     ]
    }
   ],
   "source": [
    "task_7()"
   ]
  },
  {
   "cell_type": "code",
   "execution_count": 7,
   "id": "de46110b",
   "metadata": {},
   "outputs": [],
   "source": [
    "def task_9():\n",
    "    n = int(input())\n",
    "    x = [0] * (n + 1)\n",
    "    for i in range(0, n + 1):\n",
    "        x[i] = n - i\n",
    "    print(x)"
   ]
  },
  {
   "cell_type": "code",
   "execution_count": 8,
   "id": "13055f38",
   "metadata": {},
   "outputs": [
    {
     "name": "stdout",
     "output_type": "stream",
     "text": [
      "10\n",
      "[10, 9, 8, 7, 6, 5, 4, 3, 2, 1, 0]\n"
     ]
    }
   ],
   "source": [
    "task_9()"
   ]
  },
  {
   "cell_type": "code",
   "execution_count": 13,
   "id": "1718e5ea",
   "metadata": {},
   "outputs": [],
   "source": [
    "from random import randint as rand\n",
    "import math\n",
    "def task_10():\n",
    "    n, m = map(int, input().split())\n",
    "    x = [[0] * m for i in range(n)]\n",
    "    for i in range(0, n):\n",
    "        for j in range(0, n):\n",
    "            x[i][j] = rand(0, m)\n",
    "    print(x)\n",
    "    minm = x[0][0]\n",
    "    for i in range(0, n):\n",
    "        for j in range(0, n):\n",
    "            if minm > x[i][j]:\n",
    "                minm = x[i][j]\n",
    "    print(f\"min: {minm}\")\n",
    "    maxm = x[0][0]\n",
    "    for i in range(0, n):\n",
    "        for j in range(0, n):\n",
    "            if maxm < x[i][j]:\n",
    "                maxm = x[i][j]\n",
    "    print(f\"max: {maxm}\")\n",
    "    avg = 0\n",
    "    count = 0\n",
    "    for i in range(0, n):\n",
    "        for j in range(0, n):\n",
    "            avg += x[i][j]\n",
    "            count += 1\n",
    "    print(f\"avg: {avg/count}\")\n",
    "    mean = avg / count\n",
    "    var = 0\n",
    "    for i in range(0, n):\n",
    "        for j in range(0, n):\n",
    "            var += (x[i][j] - mean) ** 2\n",
    "    st_dev = math.sqrt(var / count)\n",
    "    print(f\"st_dev: {st_dev}\")"
   ]
  },
  {
   "cell_type": "code",
   "execution_count": 14,
   "id": "8fda2a26",
   "metadata": {},
   "outputs": [
    {
     "name": "stdout",
     "output_type": "stream",
     "text": [
      "4 5\n",
      "[[4, 5, 1, 0, 0], [3, 3, 3, 2, 0], [5, 0, 4, 2, 0], [5, 5, 0, 5, 0]]\n",
      "min: 0\n",
      "max: 5\n",
      "avg: 2.9375\n",
      "st_dev: 1.8529958850466992\n"
     ]
    }
   ],
   "source": [
    "task_10()"
   ]
  },
  {
   "cell_type": "code",
   "execution_count": 15,
   "id": "172edb1f",
   "metadata": {},
   "outputs": [],
   "source": [
    "def task_12():\n",
    "    n = int(input())\n",
    "    x = [['1.'] * n for i in range(n)]\n",
    "    for i in range(0, n):\n",
    "        for j in range(0, n):\n",
    "            if i == 0 or i == n - 1 or j == 0 or j == n - 1:\n",
    "                x[i][j] = '0.'\n",
    "    print(x)"
   ]
  },
  {
   "cell_type": "code",
   "execution_count": 16,
   "id": "6fc2ce65",
   "metadata": {},
   "outputs": [
    {
     "name": "stdout",
     "output_type": "stream",
     "text": [
      "4\n",
      "[['0.', '0.', '0.', '0.'], ['0.', '1.', '1.', '0.'], ['0.', '1.', '1.', '0.'], ['0.', '0.', '0.', '0.']]\n"
     ]
    }
   ],
   "source": [
    "task_12()"
   ]
  },
  {
   "cell_type": "code",
   "execution_count": 17,
   "id": "44098af0",
   "metadata": {},
   "outputs": [],
   "source": [
    "def task_14():\n",
    "    x = [[1] * 8 for i in range(8)]\n",
    "    for i in range(0, 8):\n",
    "        if i % 2 == 0:\n",
    "            for j in range(0, 8, 2):\n",
    "                x[i][j] = 0\n",
    "        else:\n",
    "            for j in range(1, 8, 2):\n",
    "                x[i][j] = 0\n",
    "    print(x)"
   ]
  },
  {
   "cell_type": "code",
   "execution_count": 18,
   "id": "c2204df1",
   "metadata": {},
   "outputs": [
    {
     "name": "stdout",
     "output_type": "stream",
     "text": [
      "[[0, 1, 0, 1, 0, 1, 0, 1], [1, 0, 1, 0, 1, 0, 1, 0], [0, 1, 0, 1, 0, 1, 0, 1], [1, 0, 1, 0, 1, 0, 1, 0], [0, 1, 0, 1, 0, 1, 0, 1], [1, 0, 1, 0, 1, 0, 1, 0], [0, 1, 0, 1, 0, 1, 0, 1], [1, 0, 1, 0, 1, 0, 1, 0]]\n"
     ]
    }
   ],
   "source": [
    "task_14()"
   ]
  },
  {
   "cell_type": "code",
   "execution_count": 19,
   "id": "c1f575ba",
   "metadata": {},
   "outputs": [],
   "source": [
    "def task_15():\n",
    "    n = int(input())\n",
    "    x = [[0] * n for i in range(n)]\n",
    "    for i in range(0, n):\n",
    "        for j in range(0, n):\n",
    "            if j % 2 != 0:\n",
    "                x[i][j] = 1\n",
    "    print(x)"
   ]
  },
  {
   "cell_type": "code",
   "execution_count": 20,
   "id": "bd8d0c53",
   "metadata": {},
   "outputs": [
    {
     "name": "stdout",
     "output_type": "stream",
     "text": [
      "5\n",
      "[[0, 1, 0, 1, 0], [0, 1, 0, 1, 0], [0, 1, 0, 1, 0], [0, 1, 0, 1, 0], [0, 1, 0, 1, 0]]\n"
     ]
    }
   ],
   "source": [
    "task_15()"
   ]
  },
  {
   "cell_type": "code",
   "execution_count": 23,
   "id": "4e5b874f",
   "metadata": {},
   "outputs": [],
   "source": [
    "def task_21():\n",
    "    n, m = map(int, input().split())\n",
    "    x = [[0] * n for i in range(n)]\n",
    "    for i in range(0, n):\n",
    "        for j in range(0, n):\n",
    "            x[i][j] = rand(0, m)\n",
    "    print(x)\n",
    "    maxm = x[0][0]\n",
    "    for i in range(0, n):\n",
    "        for j in range(0, n):\n",
    "            if maxm < x[i][j]:\n",
    "                maxm = x[i][j]\n",
    "    for i in range(0, n):\n",
    "        for j in range(0, n):\n",
    "            if x[i][j] == maxm:\n",
    "                x[i][j] = maxm * (-1)\n",
    "    print(x)"
   ]
  },
  {
   "cell_type": "code",
   "execution_count": 24,
   "id": "15666dc3",
   "metadata": {},
   "outputs": [
    {
     "name": "stdout",
     "output_type": "stream",
     "text": [
      "4 10\n",
      "[[6, 10, 1, 4], [8, 9, 10, 9], [4, 1, 4, 10], [2, 3, 8, 8]]\n",
      "[[6, -10, 1, 4], [8, 9, -10, 9], [4, 1, 4, -10], [2, 3, 8, 8]]\n"
     ]
    }
   ],
   "source": [
    "task_21()"
   ]
  },
  {
   "cell_type": "code",
   "execution_count": 25,
   "id": "63139b93",
   "metadata": {},
   "outputs": [],
   "source": [
    "class Matrix:\n",
    "\n",
    "    def multiply_scalar(self, matrix, scalar):\n",
    "        c = [[0] * 3 for i in range(3)]\n",
    "        for i in range(0, 3):\n",
    "            for j in range(0, 3):\n",
    "                c[i][j] = scalar * matrix[i][j]\n",
    "        return c\n",
    "\n",
    "    def sum_matrix(self, first_matrix, second_matrix):\n",
    "        c = [[0] * 3 for i in range(3)]\n",
    "        for i in range(0, 3):\n",
    "            for j in range(0, 3):\n",
    "                c[i][j] = first_matrix[i][j] + second_matrix[i][j]\n",
    "        return c\n",
    "\n",
    "    def sub_matrix(self, first_matrix, second_matrix):\n",
    "        c = [[0] * 3 for i in range(3)]\n",
    "        for i in range(0, 3):\n",
    "            for j in range(0, 3):\n",
    "                c[i][j] = first_matrix[i][j] - second_matrix[i][j]\n",
    "        return c\n",
    "\n",
    "    def multiply(self, first_matrix, second_matrix):\n",
    "        c = [[0] * 3 for i in range(3)]\n",
    "        for i in range(0, 3):\n",
    "            for j in range(0, 3):\n",
    "                c[i][j] = 0\n",
    "                for k in range(0, 3):\n",
    "                    c[i][j] += first_matrix[i][k] * second_matrix[k][j]\n",
    "        return c\n",
    "\n",
    "\n",
    "def task_matrix():\n",
    "    a = [[5, 2, 0], [10, 4, 1], [7, 3, 2]]\n",
    "    b = [[3, 6, -1], [-1, -2, 0], [2, 1, 3]]\n",
    "    matrix = Matrix()\n",
    "    c = matrix.multiply((matrix.sub_matrix(a, matrix.multiply(b, b))), (matrix.sum_matrix(matrix.multiply_scalar(a, 2), b)))\n",
    "    print(c)"
   ]
  },
  {
   "cell_type": "code",
   "execution_count": 26,
   "id": "7d06e381",
   "metadata": {},
   "outputs": [
    {
     "name": "stdout",
     "output_type": "stream",
     "text": [
      "[[91, 64, 32], [257, 146, 1], [-322, -135, -51]]\n"
     ]
    }
   ],
   "source": [
    "task_matrix()"
   ]
  },
  {
   "cell_type": "code",
   "execution_count": null,
   "id": "0b2226b9",
   "metadata": {},
   "outputs": [],
   "source": []
  }
 ],
 "metadata": {
  "kernelspec": {
   "display_name": "Python 3 (ipykernel)",
   "language": "python",
   "name": "python3"
  },
  "language_info": {
   "codemirror_mode": {
    "name": "ipython",
    "version": 3
   },
   "file_extension": ".py",
   "mimetype": "text/x-python",
   "name": "python",
   "nbconvert_exporter": "python",
   "pygments_lexer": "ipython3",
   "version": "3.9.13"
  }
 },
 "nbformat": 4,
 "nbformat_minor": 5
}
